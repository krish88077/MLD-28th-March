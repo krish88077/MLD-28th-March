{
 "cells": [
  {
   "cell_type": "markdown",
   "metadata": {},
   "source": [
    "# Python Assignment 4 "
   ]
  },
  {
   "cell_type": "markdown",
   "metadata": {},
   "source": [
    "1. Write a Python Program(with class concepts) to find the area of the triangle using the below\n",
    "formula.\n",
    "area = (s*(s-a)*(s-b)*(s-c)) ** 0.5\n",
    "Function to take the length of the sides of triangle from user should be defined in the parent\n",
    "class and function to calculate the area should be defined in subclass."
   ]
  },
  {
   "cell_type": "code",
   "execution_count": 1,
   "metadata": {},
   "outputs": [
    {
     "name": "stdout",
     "output_type": "stream",
     "text": [
      "Length of side a : 5\n",
      "Length of side b : 6\n",
      "Length of side c : 3\n",
      "Area :  7.483314773547883\n"
     ]
    }
   ],
   "source": [
    "class triangle:\n",
    "    def getInput(self):\n",
    "        self.a = int(input(\"Length of side a : \"))    \n",
    "        self.b = int(input(\"Length of side b : \"))    \n",
    "        self.c = int(input(\"Length of side c : \"))  \n",
    "    \n",
    "class area(triangle):\n",
    "    def calculate(self):\n",
    "        s = (self.a + self.b + self.c)/2\n",
    "        area  = (s * (s-self.a) * (s-self.b) * (s-self.c))**0.5\n",
    "        return print(\"Area : \", area)\n",
    "    \n",
    "obj = area()\n",
    "obj.getInput()\n",
    "obj.calculate()"
   ]
  },
  {
   "cell_type": "markdown",
   "metadata": {},
   "source": [
    "2. Write a function filter_long_words() that takes a list of words and an integer n and returns\n",
    "the list of words that are longer than n"
   ]
  },
  {
   "cell_type": "code",
   "execution_count": 2,
   "metadata": {},
   "outputs": [
    {
     "data": {
      "text/plain": [
       "['build', 'change', 'example']"
      ]
     },
     "execution_count": 2,
     "metadata": {},
     "output_type": "execute_result"
    }
   ],
   "source": [
    "def filter_long_words(inputList, length):\n",
    "    out = []\n",
    "    for word in inputList:\n",
    "        if len(word)>length:\n",
    "            out.append(word)\n",
    "    return out    \n",
    "    \n",
    "K = [\"yes\", \"nice\", \"build\",\"change\",\"example\" ]\n",
    "filter_long_words(K,4)"
   ]
  },
  {
   "cell_type": "markdown",
   "metadata": {},
   "source": [
    "3. Write a Python program using function concept that maps list of words into a list of integers\n",
    "representing the lengths of the corresponding words.\n",
    "Hint: If a list [ ab,cde,erty] is passed on to the python function output should come as [2,3,4]\n",
    "Here 2,3 and 4 are the lengths of the words in the list."
   ]
  },
  {
   "cell_type": "code",
   "execution_count": 5,
   "metadata": {},
   "outputs": [
    {
     "data": {
      "text/plain": [
       "[3, 4, 1, 6, 7]"
      ]
     },
     "execution_count": 5,
     "metadata": {},
     "output_type": "execute_result"
    }
   ],
   "source": [
    "def map_word_length(inputList):\n",
    "    out = []\n",
    "    for word in inputList:\n",
    "        out.append(len(word))\n",
    "    return out    \n",
    "    \n",
    "K = [\"yes\", \"nice\", \" \",\"change\",\"example\" ]\n",
    "map_word_length(K)\n",
    "    "
   ]
  },
  {
   "cell_type": "markdown",
   "metadata": {},
   "source": [
    "4. Write a Python function which takes a character (i.e. a string of length 1) and returns True if\n",
    "it is a vowel, False otherwise."
   ]
  },
  {
   "cell_type": "code",
   "execution_count": 4,
   "metadata": {},
   "outputs": [
    {
     "name": "stdout",
     "output_type": "stream",
     "text": [
      "False\n",
      "True\n"
     ]
    }
   ],
   "source": [
    "def check_vowel(inputChar):\n",
    "    vowelList = ['a','e','i','o','u']\n",
    "    return True if inputChar in vowelList else False    \n",
    "print(check_vowel('s'))\n",
    "print(check_vowel('a'))    "
   ]
  }
 ],
 "metadata": {
  "kernelspec": {
   "display_name": "Python 3",
   "language": "python",
   "name": "python3"
  },
  "language_info": {
   "codemirror_mode": {
    "name": "ipython",
    "version": 3
   },
   "file_extension": ".py",
   "mimetype": "text/x-python",
   "name": "python",
   "nbconvert_exporter": "python",
   "pygments_lexer": "ipython3",
   "version": "3.7.6"
  }
 },
 "nbformat": 4,
 "nbformat_minor": 4
}
