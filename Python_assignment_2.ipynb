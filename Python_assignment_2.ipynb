{
  "nbformat": 4,
  "nbformat_minor": 0,
  "metadata": {
    "colab": {
      "name": "Python assignment 2.ipynb",
      "provenance": [],
      "authorship_tag": "ABX9TyN2xdtdKNdDBR63/4JcRStm",
      "include_colab_link": true
    },
    "kernelspec": {
      "name": "python3",
      "display_name": "Python 3"
    },
    "accelerator": "GPU"
  },
  "cells": [
    {
      "cell_type": "markdown",
      "metadata": {
        "id": "view-in-github",
        "colab_type": "text"
      },
      "source": [
        "<a href=\"https://colab.research.google.com/github/krish88077/MLD-28th-March/blob/master/Python_assignment_2.ipynb\" target=\"_parent\"><img src=\"https://colab.research.google.com/assets/colab-badge.svg\" alt=\"Open In Colab\"/></a>"
      ]
    },
    {
      "cell_type": "markdown",
      "metadata": {
        "id": "ePSh2touNTZG",
        "colab_type": "text"
      },
      "source": [
        "#Python assignment 2"
      ]
    },
    {
      "cell_type": "markdown",
      "metadata": {
        "id": "CtGgR0NuNWlT",
        "colab_type": "text"
      },
      "source": [
        "1. Create the below pattern using nested for loop in Python.\n",
        "*\n",
        "* *\n",
        "* * *\n",
        "* * * *\n",
        "* * * * *\n",
        "* * * *\n",
        "* * *\n",
        "* *\n",
        "*"
      ]
    },
    {
      "cell_type": "code",
      "metadata": {
        "id": "Ixqg50o_ML25",
        "colab_type": "code",
        "colab": {
          "base_uri": "https://localhost:8080/",
          "height": 182
        },
        "outputId": "f5bbba88-bf5b-4c4b-8ad5-5d0bd51e6fbd"
      },
      "source": [
        "for i in range (0, 5):\n",
        "    for j in range(0, i + 1):\n",
        "        print(\"* \", end='')\n",
        "    print(\"\\r\")\n",
        "for i in range (5, 1, -1):\n",
        "    for j in range(0, i -1):\n",
        "        print(\"* \", end='')\n",
        "    print(\"\\r\")"
      ],
      "execution_count": 1,
      "outputs": [
        {
          "output_type": "stream",
          "text": [
            "* \r\n",
            "* * \r\n",
            "* * * \r\n",
            "* * * * \r\n",
            "* * * * * \r\n",
            "* * * * \r\n",
            "* * * \r\n",
            "* * \r\n",
            "* \r\n"
          ],
          "name": "stdout"
        }
      ]
    },
    {
      "cell_type": "markdown",
      "metadata": {
        "id": "hnwcOIfrOxJ6",
        "colab_type": "text"
      },
      "source": [
        "2. Write a Python program to reverse a word after accepting the input from the user. \n",
        "<br>Sample Output: \n",
        "<br>Input word: Ineuron \n",
        "<br>Output: noruenI "
      ]
    },
    {
      "cell_type": "code",
      "metadata": {
        "id": "b-g5DXBBO7U8",
        "colab_type": "code",
        "colab": {
          "base_uri": "https://localhost:8080/",
          "height": 54
        },
        "outputId": "0fbe94ca-25d3-4881-98b7-5c62bc64179d"
      },
      "source": [
        "Input = input()\n",
        "print(Input[::-1])"
      ],
      "execution_count": 3,
      "outputs": [
        {
          "output_type": "stream",
          "text": [
            "Krish\n",
            "hsirK\n"
          ],
          "name": "stdout"
        }
      ]
    }
  ]
}