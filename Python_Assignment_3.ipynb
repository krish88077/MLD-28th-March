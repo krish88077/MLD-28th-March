{
 "cells": [
  {
   "cell_type": "markdown",
   "metadata": {},
   "source": [
    "1. Write a Python Program to implement your own myreduce() function which works exactly\n",
    "like Python's built-in function reduce()"
   ]
  },
  {
   "cell_type": "code",
   "execution_count": 1,
   "metadata": {},
   "outputs": [
    {
     "data": {
      "text/plain": [
       "53"
      ]
     },
     "execution_count": 1,
     "metadata": {},
     "output_type": "execute_result"
    }
   ],
   "source": [
    "def myreduce(func, templist):\n",
    "    val = templist[0]\n",
    "    for i in range(1, len(templist)):\n",
    "        val = func(val, templist[i])\n",
    "    return val\n",
    "\n",
    "inputList = [3,5,11,32,2]\n",
    "myreduce(lambda a,b : a+b, inputList)"
   ]
  },
  {
   "cell_type": "markdown",
   "metadata": {},
   "source": [
    "2. Write a Python program to implement your own myfilter() function which works exactly\n",
    "like Python's built-in function filter()"
   ]
  },
  {
   "cell_type": "code",
   "execution_count": 2,
   "metadata": {},
   "outputs": [
    {
     "data": {
      "text/plain": [
       "[32, 2, 2, 4, 50]"
      ]
     },
     "execution_count": 2,
     "metadata": {},
     "output_type": "execute_result"
    }
   ],
   "source": [
    "def myfilter(func, givenlist):\n",
    "    finalList = []\n",
    "    for i in range(len(givenlist)):\n",
    "        if func(givenlist[i]):\n",
    "          finalList.append(givenlist[i])\n",
    "    return finalList\n",
    "inputList = [3,5,11,32,2, 1,2,3,4,50]\n",
    "myfilter(lambda x: x % 2 == 0, inputList)"
   ]
  },
  {
   "cell_type": "markdown",
   "metadata": {},
   "source": [
    "3. Implement List comprehensions to produce the following lists.\n",
    "Write List comprehensions to produce the following Lists\n",
    "['A', 'C', 'A', 'D', 'G', 'I', ’L’, ‘ D’]\n",
    "['x', 'xx', 'xxx', 'xxxx', 'y', 'yy', 'yyy', 'yyyy', 'z', 'zz', 'zzz', 'zzzz']\n",
    "['x', 'y', 'z', 'xx', 'yy', 'zz', 'xxx', 'yyy', 'zzz', 'xxxx', 'yyyy', 'zzzz']\n",
    "[[2], [3], [4], [3], [4], [5], [4], [5], [6]] [[2, 3, 4, 5], [3, 4, 5, 6],\n",
    "[4, 5, 6, 7], [5, 6, 7, 8]]\n",
    "[(1, 1), (2, 1), (3, 1), (1, 2), (2, 2), (3, 2), (1, 3), (2, 3), (3, 3)]"
   ]
  },
  {
   "cell_type": "code",
   "execution_count": 4,
   "metadata": {},
   "outputs": [
    {
     "name": "stdout",
     "output_type": "stream",
     "text": [
      "['x', 'xx', 'xxx', 'xxxx', 'y', 'yy', 'yyy', 'yyyy', 'z', 'zz', 'zzz', 'zzzz']\n",
      "['x', 'y', 'z', 'xx', 'yy', 'zz', 'xxx', 'yyy', 'zzz', 'xxxx', 'yyyy', 'zzzz']\n",
      "[[2], [3], [4], [3], [4], [5], [4], [5], [6]]\n",
      "[[2, 3, 4, 5], [3, 4, 5, 6], [4, 5, 6, 7], [5, 6, 7, 8]]\n",
      "[(1, 1), (2, 1), (3, 1), (1, 2), (2, 2), (3, 2), (1, 3), (2, 3), (3, 3)]\n"
     ]
    }
   ],
   "source": [
    "#Pattern 1\n",
    "firstQuesInput = ['x','y','z']\n",
    "firstQuesPattern=[]\n",
    "for d in [[i*m for i in range(1,len(firstQuesInput)+2)] for m in firstQuesInput]:\n",
    "  firstQuesPattern = firstQuesPattern+d\n",
    "\n",
    "#Pattern 2\n",
    "secondQuesInput = ['x','y','z']\n",
    "secondQuesPattern=[]\n",
    "for d in [[i*m for m in secondQuesInput ]for i in range(1,len(secondQuesInput)+2)]:\n",
    "  secondQuesPattern = secondQuesPattern+d\n",
    "\n",
    "#Pattern 3\n",
    "from itertools import islice \n",
    "thirdQuesInput = [2,3,4]\n",
    "tempList= []\n",
    "for c in [ [i+z for i in thirdQuesInput ] for z in range(len(thirdQuesInput))]:\n",
    "  tempList = tempList + c\n",
    "length_to_split = [1 for x in range(len(tempList)) ] \n",
    "val = iter(tempList) \n",
    "thirdQuesPattern = [list(islice(val, elem)) for elem in length_to_split] \n",
    " \n",
    "#Pattern 4\n",
    "fourthQuesInput = [2,3,4,5]\n",
    "fourthQuesPattern = [ [i+z for i in fourthQuesInput ] for z in range(len(fourthQuesInput))]\n",
    "\n",
    "#Pattern 5\n",
    "fifthQuesPattern= []\n",
    "fifthQuesInput = [1,2,3]\n",
    "for f in range(1,len(fifthQuesInput)+1):\n",
    "  for d in fifthQuesInput:\n",
    "    t = (d, f)\n",
    "    fifthQuesPattern.append(t)\n",
    "    \n",
    "print(firstQuesPattern)\n",
    "print(secondQuesPattern)\n",
    "print(thirdQuesPattern)\n",
    "print(fourthQuesPattern)\n",
    "print(fifthQuesPattern)"
   ]
  }
 ],
 "metadata": {
  "kernelspec": {
   "display_name": "Python 3",
   "language": "python",
   "name": "python3"
  },
  "language_info": {
   "codemirror_mode": {
    "name": "ipython",
    "version": 3
   },
   "file_extension": ".py",
   "mimetype": "text/x-python",
   "name": "python",
   "nbconvert_exporter": "python",
   "pygments_lexer": "ipython3",
   "version": "3.7.6"
  }
 },
 "nbformat": 4,
 "nbformat_minor": 4
}
